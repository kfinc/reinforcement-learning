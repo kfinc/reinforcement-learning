{
 "cells": [
  {
   "cell_type": "markdown",
   "metadata": {},
   "source": [
    "### Notes from \"Reinforcement Learning\" by Sutton amd Barto"
   ]
  },
  {
   "cell_type": "markdown",
   "metadata": {},
   "source": [
    "The most important feature distinguishing reinforcement learning from other types of learning is that it uses training information that **evaluates** the actions taken rather than **instructs** by giving correct actions.\n",
    "\n",
    "- **Purely evaluative feedback** indicates how good the action taken was, but not whether it was the best or the worst action possible. Depends entirely on the action taken.\n",
    "- **Purely instructive feedback**, on the other hand, indicates the correct action to take, independently of the action actually taken (basis of supervised learning). Independent of the action taken.\n",
    "\n",
    "\n",
    "**Nonassociative settings** --> evaluative feedback problem that we explore is a simple version of the k-armed bandit problem (actions taken in one situation).\n",
    "\n",
    "**Associative settings** --> actions are taken in more than one situation.\n",
    "\n",
    "----------------\n",
    "### A k-armed Bandit Problem\n",
    "\n",
    "- In the k-armed bandit problem, we have a decision-maker or **agent**, who chooses between k different **actions**, and receives a **reward** based on the action he chooses.\n",
    "- You are faced repeatedly with a choice among $k$ different options, or actions.\n",
    "- After each choice you receive a numerical reward chosen from a stationary probability distribution that depends on the action you selected.\n",
    "- Your objective is to maximize the expected total reward over some time period, for example, over 1000 action selections, or time steps.\n",
    "\n",
    "Each of the $k$ actions has an expected or mean reward given that that action is selected; let us call this the **value of that action**. \n",
    "\n",
    "We denote the action selected on time step $t$ as $A_{t}$, and the corresponding reward as $R_{t}$. The value then of an arbitrary action $a$, denoted $q_{*}(a)$, is the **expected reward** given that $a$ is selected:\n",
    "\n",
    "$q_{*}(a) \\doteq E[R_{t} | A_{t}=a]$\n",
    "\n",
    "The goal of the agent is to maximize **expected reward** (argmax).\n",
    "\n",
    "We denote the estimated value of action $a$ at time step $t$ as $Q_{t}(a)$. We would like Qt(a) to be close to $q_{t}(a)$.\n",
    "\n",
    "- If you maintain estimates of the action values, then at any time step there is at least one action whose estimated value is greatest. --? We call these the **greedy** actions. \n",
    "- When you select one of these actions, we say that you are **exploiting** your current knowledge of the values of the actions. \n",
    "- If instead you select one of the nongreedy actions, then we say you are **exploring**, because this enables you to improve your estimate of the nongreedy action’s value.\n",
    "\n",
    "****"
   ]
  },
  {
   "cell_type": "markdown",
   "metadata": {},
   "source": [
    "### Action-value Methods\n",
    "\n",
    "**True value** of an action is the mean reward when that action is selected.\n",
    "\n",
    "$Q_{t} \\doteq \\frac{\\text{sum of rewards when $a$ taken prior to $t$}} {\\text{number of times $a$ taken prior to $t$}} = \\frac{\\sum_{i=1}^{t-a}R_{i} . I_{A_{i}=a}}{\\sum_{i=1}^{t-a}I_{A_{i}=a}}$\n",
    "\n",
    "where $I_{predicate}$ denotes the random variable that is 1 if predicate is true and 0 if it is not. If the denominator is zero, then we instead define $Q_{t}(a)$ as some default value, such as 0. \n",
    "\n",
    "As the denominator goes to infinity, by the law of large numbers, $Q_{t}(a)$ converges to $q_{*}(a)$. We call this the **sample-average method** for estimating action values because each estimate is an average of the sample of relevant rewards. \n",
    "\n",
    "The simplest action selection rule is to select one of the actions with the highest\n",
    "estimated value, that is, one of the greedy actions as defined in the previous section. If there is more than one *greedy* action, then a selection is made among them in some arbitrary way, perhaps randomly. We write this greedy action selection method as\n",
    "\n",
    "$A_{t} \\doteq \\text{argmax } Q_{t}(a)$\n",
    "\n",
    "where $argmax_{a}$ denotes the action a for which the expression that follows is maximized (again, with ties broken arbitrarily). \n",
    "\n",
    "Greedy action selection always **exploits** current knowledge to maximize immediate reward; it spends no time at all sampling apparently inferior actions to see if they might really be better.\n",
    "\n",
    "**$\\epsilon-greedy$** methods - a simple alternative is to behave greedily most of the time, but every once in a while, say with small probability $\\epsilon$, instead select randomly from among all the actions with equal probability, independently of the action-value estimates.\n",
    "\n",
    "- An advantage of these methods is that, in the limit as the number of steps increases, every action will be sampled an infinite number of times, thus ensuring that all the $Q_{t}(a)$ converge to $q_{*}(a)$. This\n",
    "\n",
    "### Incremental Implementation\n",
    "\n",
    "$Q_{n}\\doteq \\frac{R_{1} + R_{2} + ... + R_{{n-1}}}{n-1}$\n",
    "\n",
    "- The obvious implementation would be to maintain a record of all the rewards and then perform this computation whenever the estimated value was needed. \n",
    "- However, if this is done, then the memory and computational requirements would grow over time as more rewards are seen. \n",
    "- Each additional reward would require additional memory to store it and additional computation to compute the sum in the numerator.\n",
    "- It is easy to devise incremental\n",
    "formulas for updating averages with small, constant computation required to process each new reward:\n",
    "\n",
    "$Q_{n+1} = \\frac{1}{n} \\sum^{n}_{i=1}R_{i}$\n",
    "\n",
    "This implementation requires memory only for $Q_{n}$ and $n$, and only the small computation for each new reward. This update rule is of a form that occurs frequently throughout this book. The general form is:\n",
    "\n",
    "$NewEstimate \\leftarrow OldEstimate + StepSize[Target - OldEstimate]$\n",
    "\n",
    "- The expression $[Target-OldEstimate]$ is an $error$ in the estimate. It is reduced by taking a step toward the “Target.” The target is presumed to indicate a desirable direction in which to move, though it may be noisy. In the case above, for example, the target is the $n$-th reward.\n",
    "- Note that the step-size parameter (StepSize) used in the incremental method (2.3) changes from time step to time step. In processing the $n$-th reward for action $a$, the method uses the step-size parameter\n",
    "$\\frac{1}{n}$ . In this book we denote the step-size parameter by $\\alpha$ or, more generally, by $\\alpha_{t}(a)$.\n",
    "\n",
    "**Pseudocode**\n",
    "\n",
    "#### Initialize\n",
    "from a = 1:k:\n",
    "    Q(a) <- 0\n",
    "    N(a) <- 0\n",
    "\n",
    "#### Loop forever:\n",
    "\n",
    "A \\leftarrow { argmax_{a} Q(a) with probability 1-\\epsilon (breaking ties randomly)\n",
    "\n",
    "a random action with probability $\\epsilon$\n",
    "\n",
    "$R \\leftarrow bandit(A)$\n",
    "$N(A) \\leftarrow N(A) + 1$\n",
    "$Q(A) \\leftarrow Q(A) + \\frac{1}{N(A)}[R - Q(A)]$ \n",
    "\n",
    "The function bandit(a) is assumed to take an action and return a corresponding reward.\n",
    "\n",
    "\n",
    "The idea of this **upper confidence bound (UCB)** action selection is that the square-root term is a measure of the uncertainty or variance in the estimate of $a$’s value.\n",
    "\n",
    "\n",
    "Dealing with exploitation-exploration dillema:\n",
    "- optimistic initial values encourage early exploration\n",
    "- upper-confidence bound action selection uses uncertainty in the value estimates to balance exploration and exploitation."
   ]
  },
  {
   "cell_type": "markdown",
   "metadata": {},
   "source": [
    "### Gradient Bandit Algorithms\n",
    "\n",
    "Another way:\n",
    "**Numerical preference** for each action $a$, denoted as $Ht(a)$. \n",
    "- The larger the preference, the more often that action is taken, but the preference has no interpretation in terms of reward. \n",
    "- Only the relative preference of one action over another is important; if we add 1000 to all the action preferences there is no e↵ect on the action probabilities, which are determined according to a **soft-max** distribution (i.e., Gibbs or Boltzmann distribution) as follows:\n",
    "\n",
    "$Pr{A_{t}=a} \\doteq \\frac{e^{H_{t}(a)}}{\\sum^{k}_{b=1}e^{H_{t}(b)}} \\doteq \\pi_{t}(a)$\n",
    "\n",
    "where here we have also introduced a useful new notation, $\\pi_{t}(a)$, for the probability of taking action $a$ at time $t$. Initially all action preferences are the same (e.g., H1(a) = 0, for all a) so that all actions have an equal probability of being selected.\n"
   ]
  },
  {
   "cell_type": "markdown",
   "metadata": {},
   "source": [
    "### Associative Search (Contextual Bandits)\n",
    "- in a general reinforcement learning task there is more than one situation, and the goal is to learn a policy: a mapping from situations to the actions that are best in those situations.\n",
    "- As an example, suppose there are several di↵erent k-armed bandit tasks, and that on each step you confront one of these chosen at random. Thus, the bandit task changes randomly from step to step. This would appear to you as a single, nonstationary k-armed bandit task whose true action values change randomly from step to step. You could try using one of the methods described in this chapter that can handle nonstationarity, but unless the true action values change slowly, these methods will not work very well.\n",
    "- Now suppose, however, that when a bandit task is selected for you, you are given some distinctive clue about its identity (but not its action values).\n",
    "- Now you can learn a policy associating each task, signaled by the color you see, with the best action to take when facing that task—for instance, if red, select arm 1; if green, select arm 2. With the right policy you can usually do much better than you could in the absence of any information distinguishing one bandit task from another.\n",
    "- **associative search task** - involves both trial-and-error learning to search for the best actions, and association of these actions with the situations in which they are best. Associative search tasks are often now called contextual bandits in the literature. Associative search tasks are intermediate between the k-armed bandit problem and the full reinforcement learning problem. They are like the full reinforcement learning problem in that they involve learning a policy, but like our version of the k-armed bandit problem in that each action affects only the immediate reward. If actions are allowed to a↵ect the next situation as well as the reward, then we have the full reinforcement learning problem.\n",
    "\n",
    "### Summary\n",
    "\n",
    "Our graphs so far have shown the course of learning over time for each algorithm and parameter setting, to produce a **learning curve** for that algorithm and parameter setting. If we plotted learning curves for all algorithms and all parameter settings, then the graph would be too complex and crowded to make clear comparisons. Instead we summarize a complete learning curve by its average value over the 1000 steps; this value is proportional to the area under the learning curve. Figure 2.6 shows this measure for the various bandit algorithms from this chapter, each as a function of its own parameter shown on a single scale on the x-axis. This kind of graph is called a **parameter study**. "
   ]
  },
  {
   "cell_type": "markdown",
   "metadata": {},
   "source": [
    "## Exercise"
   ]
  },
  {
   "cell_type": "code",
   "execution_count": 28,
   "metadata": {},
   "outputs": [
    {
     "data": {
      "text/plain": [
       "<matplotlib.legend.Legend at 0x7f634bbd1710>"
      ]
     },
     "execution_count": 28,
     "metadata": {},
     "output_type": "execute_result"
    },
    {
     "data": {
      "image/png": "[encoded data removed]",
      "text/plain": [
       "<Figure size 432x288 with 1 Axes>"
      ]
     },
     "metadata": {
      "needs_background": "light"
     },
     "output_type": "display_data"
    }
   ],
   "source": [
    "import numpy as np\n",
    "import matplotlib.pyplot as plt\n",
    "\n",
    "size = 100\n",
    "\n",
    "x = np.array(np.random.binomial(200, 0.4, size))\n",
    "y = np.array(np.random.binomial(200, 0.3, size))\n",
    "plt.hist(x)\n",
    "plt.hist(y)\n",
    "plt.legend(['x', 'y'])"
   ]
  },
  {
   "cell_type": "code",
   "execution_count": 235,
   "metadata": {},
   "outputs": [
    {
     "data": {
      "text/plain": [
       "[<matplotlib.lines.Line2D at 0x7f634b3eeb00>]"
      ]
     },
     "execution_count": 235,
     "metadata": {},
     "output_type": "execute_result"
    },
    {
     "data": {
      "image/png": "[encoded data removed]",
      "text/plain": [
       "<Figure size 432x288 with 1 Axes>"
      ]
     },
     "metadata": {
      "needs_background": "light"
     },
     "output_type": "display_data"
    }
   ],
   "source": [
    "Q = np.zeros(size)\n",
    "Q[0] = 0.5    \n",
    "options = [x[0], y[0]]\n",
    "base = np.random.choice(options)\n",
    "winner = np.max(options)\n",
    "output = [1 if base == winner else 0][0]\n",
    "\n",
    "\n",
    "for i in range(1,size):\n",
    "      \n",
    "    Q[i] = Q[i-1]+(1/i*(output - Q[i-1]))\n",
    "    base = [x[i] if Q[i] < 0.5 else y[i]][0]\n",
    "    winner = np.max(options)\n",
    "    output = [1 if base == winner else 0][0]\n",
    "\n",
    "plt.plot(Q)\n",
    "                       "
   ]
  },
  {
   "cell_type": "code",
   "execution_count": 89,
   "metadata": {},
   "outputs": [
    {
     "data": {
      "text/plain": [
       "76"
      ]
     },
     "execution_count": 89,
     "metadata": {},
     "output_type": "execute_result"
    }
   ],
   "source": [
    "winner = np.max(options)\n",
    "winner"
   ]
  }
 ],
 "metadata": {
  "kernelspec": {
   "display_name": "Python 3",
   "language": "python",
   "name": "python3"
  },
  "language_info": {
   "codemirror_mode": {
    "name": "ipython",
    "version": 3
   },
   "file_extension": ".py",
   "mimetype": "text/x-python",
   "name": "python",
   "nbconvert_exporter": "python",
   "pygments_lexer": "ipython3",
   "version": "3.7.3"
  }
 },
 "nbformat": 4,
 "nbformat_minor": 2
}
